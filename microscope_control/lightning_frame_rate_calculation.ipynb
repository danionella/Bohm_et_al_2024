{
 "cells": [
  {
   "cell_type": "code",
   "execution_count": 1,
   "id": "dc61d4e1-2c06-4621-a23d-e64ef60bbd37",
   "metadata": {},
   "outputs": [],
   "source": [
    "import numpy as np"
   ]
  },
  {
   "cell_type": "code",
   "execution_count": 80,
   "id": "24102779-ece8-46ca-8bee-363603ef4439",
   "metadata": {},
   "outputs": [
    {
     "name": "stdout",
     "output_type": "stream",
     "text": [
      "5665.337200870195\n"
     ]
    }
   ],
   "source": [
    "hpx = 1280\n",
    "vpx = 100\n",
    "exp = 0.15e3\n",
    "h4 = np.max((hpx / 365.25, 6.304)) \n",
    "\n",
    "fr = 1/((vpx/4 + 3) * h4)\n",
    "\n",
    "print(fr*1000000)"
   ]
  },
  {
   "cell_type": "code",
   "execution_count": 81,
   "id": "6956d4fa-05f1-46f3-b7e6-bcaa328aed49",
   "metadata": {},
   "outputs": [
    {
     "name": "stdout",
     "output_type": "stream",
     "text": [
      "23.794416243654823\n",
      "25.0\n"
     ]
    }
   ],
   "source": [
    "print(exp/h4)\n",
    "print(vpx/4)\n",
    "# exp"
   ]
  },
  {
   "cell_type": "code",
   "execution_count": 42,
   "id": "3d9b05b3-515a-402e-b937-c6d60b549507",
   "metadata": {},
   "outputs": [
    {
     "data": {
      "text/plain": [
       "548.900442633317"
      ]
     },
     "execution_count": 42,
     "metadata": {},
     "output_type": "execute_result"
    }
   ],
   "source": [
    "1000000/((vpx/4 + 3)*h4 + exp)"
   ]
  },
  {
   "cell_type": "code",
   "execution_count": null,
   "id": "03ad8fed-c6b0-4d66-8654-0ecc571e4950",
   "metadata": {},
   "outputs": [],
   "source": []
  }
 ],
 "metadata": {
  "kernelspec": {
   "display_name": "Python 3 (ipykernel)",
   "language": "python",
   "name": "python3"
  },
  "language_info": {
   "codemirror_mode": {
    "name": "ipython",
    "version": 3
   },
   "file_extension": ".py",
   "mimetype": "text/x-python",
   "name": "python",
   "nbconvert_exporter": "python",
   "pygments_lexer": "ipython3",
   "version": "3.9.12"
  }
 },
 "nbformat": 4,
 "nbformat_minor": 5
}
